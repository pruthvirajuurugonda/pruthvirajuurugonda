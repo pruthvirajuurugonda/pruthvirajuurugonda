{
  "nbformat": 4,
  "nbformat_minor": 0,
  "metadata": {
    "colab": {
      "provenance": [],
      "authorship_tag": "ABX9TyO8RKr14ga2GUb3PUxiX9fQ",
      "include_colab_link": true
    },
    "kernelspec": {
      "name": "python3",
      "display_name": "Python 3"
    },
    "language_info": {
      "name": "python"
    }
  },
  "cells": [
    {
      "cell_type": "markdown",
      "metadata": {
        "id": "view-in-github",
        "colab_type": "text"
      },
      "source": [
        "<a href=\"https://colab.research.google.com/github/pruthvirajuurugonda/pruthvirajuurugonda/blob/main/python-basic-add.ipynb\" target=\"_parent\"><img src=\"https://colab.research.google.com/assets/colab-badge.svg\" alt=\"Open In Colab\"/></a>"
      ]
    },
    {
      "cell_type": "code",
      "execution_count": 16,
      "metadata": {
        "colab": {
          "base_uri": "https://localhost:8080/"
        },
        "id": "N_6-VLXYRS8c",
        "outputId": "9d69dec9-97f2-4e83-b24b-78878fc1ad9b"
      },
      "outputs": [
        {
          "output_type": "stream",
          "name": "stdout",
          "text": [
            "enter num1 = 12\n",
            "enter num2 = 23\n",
            "Sum of 12 and 23 is 35\n"
          ]
        }
      ],
      "source": [
        "num1 = input(\"enter num1 = \")\n",
        "num2 = input(\"enter num2 = \")\n",
        " \n",
        "# Adding two nos\n",
        "sum = int(num1) + int(num2)\n",
        " \n",
        "# printing values\n",
        "print(\"Sum of\", num1, \"and\", num2 , \"is\", sum)"
      ]
    },
    {
      "cell_type": "code",
      "source": [
        "def add (a,b):\n",
        " return a+b\n",
        "\n",
        "num1 = input(\"enter num1 = \")\n",
        "num2 = input(\"enter num2 = \")\n",
        "\n",
        "print(add(int(num1), int(num2)))\n"
      ],
      "metadata": {
        "colab": {
          "base_uri": "https://localhost:8080/"
        },
        "id": "K1pwqm4kdDhF",
        "outputId": "020c8bc9-6607-48b8-84a6-a8a86aa87082"
      },
      "execution_count": 22,
      "outputs": [
        {
          "output_type": "stream",
          "name": "stdout",
          "text": [
            "enter num1 = 2\n",
            "enter num2 = 0\n",
            "2\n"
          ]
        }
      ]
    },
    {
      "cell_type": "code",
      "source": [
        "import operator\n",
        "num1 = int(input(\"enter num1 = \"))\n",
        "num2 = float(input(\"enter num2 = \"))\n",
        "\n",
        "su = operator.add(num1,num2)\n",
        "print(su)"
      ],
      "metadata": {
        "colab": {
          "base_uri": "https://localhost:8080/"
        },
        "id": "shuCXZfsf4rS",
        "outputId": "1d78b83f-5bd3-4ad1-92d9-2d994bf76ea6"
      },
      "execution_count": 25,
      "outputs": [
        {
          "output_type": "stream",
          "name": "stdout",
          "text": [
            "enter num1 = 1\n",
            "enter num2 = 2.2\n",
            "3.2\n"
          ]
        }
      ]
    }
  ]
}