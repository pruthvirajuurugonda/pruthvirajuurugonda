{
  "nbformat": 4,
  "nbformat_minor": 0,
  "metadata": {
    "colab": {
      "provenance": [],
      "authorship_tag": "ABX9TyNuVJnjnWdwShAvSSwTz5ui",
      "include_colab_link": true
    },
    "kernelspec": {
      "name": "python3",
      "display_name": "Python 3"
    },
    "language_info": {
      "name": "python"
    }
  },
  "cells": [
    {
      "cell_type": "markdown",
      "metadata": {
        "id": "view-in-github",
        "colab_type": "text"
      },
      "source": [
        "<a href=\"https://colab.research.google.com/github/pruthvirajuurugonda/pruthvirajuurugonda/blob/main/python-basic-add.ipynb\" target=\"_parent\"><img src=\"https://colab.research.google.com/assets/colab-badge.svg\" alt=\"Open In Colab\"/></a>"
      ]
    },
    {
      "cell_type": "code",
      "execution_count": null,
      "metadata": {
        "colab": {
          "base_uri": "https://localhost:8080/"
        },
        "id": "N_6-VLXYRS8c",
        "outputId": "9d69dec9-97f2-4e83-b24b-78878fc1ad9b"
      },
      "outputs": [
        {
          "output_type": "stream",
          "name": "stdout",
          "text": [
            "enter num1 = 12\n",
            "enter num2 = 23\n",
            "Sum of 12 and 23 is 35\n"
          ]
        }
      ],
      "source": [
        "num1 = input(\"enter num1 = \")\n",
        "num2 = input(\"enter num2 = \")\n",
        " \n",
        "# Adding two nos\n",
        "sum = int(num1) + int(num2)\n",
        " \n",
        "# printing values\n",
        "print(\"Sum of\", num1, \"and\", num2 , \"is\", sum)"
      ]
    },
    {
      "cell_type": "code",
      "source": [
        "def add (a,b):\n",
        " return a+b\n",
        "\n",
        "num1 = input(\"enter num1 = \")\n",
        "num2 = input(\"enter num2 = \")\n",
        "\n",
        "print(add(int(num1), int(num2)))\n"
      ],
      "metadata": {
        "colab": {
          "base_uri": "https://localhost:8080/"
        },
        "id": "K1pwqm4kdDhF",
        "outputId": "020c8bc9-6607-48b8-84a6-a8a86aa87082"
      },
      "execution_count": null,
      "outputs": [
        {
          "output_type": "stream",
          "name": "stdout",
          "text": [
            "enter num1 = 2\n",
            "enter num2 = 0\n",
            "2\n"
          ]
        }
      ]
    },
    {
      "cell_type": "code",
      "source": [
        "import operator\n",
        "num1 = int(input(\"enter num1 = \"))\n",
        "num2 = float(input(\"enter num2 = \"))\n",
        "\n",
        "\n",
        "# Add\n",
        "print(operator.add(num1,num2))\n",
        "\n",
        "# SUB\n",
        "print(operator.sub(num1,num2))\n",
        "\n",
        "# Mult\n",
        "print(operator.mul(num1,num2))\n",
        "\n",
        "# DIV\n",
        "print(operator.truediv(num1,num2))\n",
        "print(operator.floordiv(num1,num2))\n",
        "\n",
        "# Max\n",
        "print(max(num1,num2))\n",
        "\n",
        "print(min(num1,num2))\n",
        "\n",
        "#factroial\n",
        "import math \n",
        "print (math.factorial(num1))\n"
      ],
      "metadata": {
        "colab": {
          "base_uri": "https://localhost:8080/"
        },
        "id": "shuCXZfsf4rS",
        "outputId": "9847546f-550f-4707-872f-71132942de44"
      },
      "execution_count": 13,
      "outputs": [
        {
          "output_type": "stream",
          "name": "stdout",
          "text": [
            "enter num1 = 4\n",
            "enter num2 = 2\n",
            "6.0\n",
            "2.0\n",
            "8.0\n",
            "2.0\n",
            "2.0\n",
            "4\n",
            "2.0\n",
            "24\n"
          ]
        }
      ]
    },
    {
      "cell_type": "code",
      "source": [
        "#Factorail\n",
        "num = int(input(\"enter num = \"))\n",
        "\n",
        "if num==0 or num==1:\n",
        "   print(1)\n",
        "else:\n",
        "  fact = 1\n",
        "  while(num > 1):\n",
        "      fact = num*fact  #fact *= num\n",
        "      num= num-1#num -= 1\n",
        "  print(fact)\n",
        "\n",
        "# factorial With numpy\n",
        "import numpy\n",
        "n = int(input(\"enter num = \"))\n",
        "i=1\n",
        "x=numpy.prod([i for i in range(1,n+1)])\n",
        "print(x)"
      ],
      "metadata": {
        "id": "m4rKPeWSzmVk",
        "outputId": "3bd27933-f03e-4adb-9451-5aada4f05625",
        "colab": {
          "base_uri": "https://localhost:8080/"
        }
      },
      "execution_count": 26,
      "outputs": [
        {
          "output_type": "stream",
          "name": "stdout",
          "text": [
            "enter num = 4\n",
            "24\n",
            "enter num = 5\n",
            "120\n"
          ]
        }
      ]
    },
    {
      "cell_type": "code",
      "source": [
        "# Simple interset = (P*T*R)/100\n",
        "\n",
        "P = float(input(\"Enter principle amount = \"))\n",
        "T = float (input(\"Enter time = \"))\n",
        "R = float (input(\"Enter intrest rate= \"))\n",
        "\n",
        "print((P*T*R)/100)\n",
        "\n",
        "# Compound Interset A = P(1 + R/100) t \n",
        "#Compound Interest = A – P\n",
        "\n",
        "A=0\n",
        "A = P*(pow((1+R/100),T))\n",
        "print(A-P)\n",
        "\n"
      ],
      "metadata": {
        "id": "hbbolk5j1R3T"
      },
      "execution_count": null,
      "outputs": []
    }
  ]
}