{
  "nbformat": 4,
  "nbformat_minor": 0,
  "metadata": {
    "colab": {
      "provenance": [],
      "include_colab_link": true
    },
    "kernelspec": {
      "name": "python3",
      "display_name": "Python 3"
    },
    "language_info": {
      "name": "python"
    }
  },
  "cells": [
    {
      "cell_type": "markdown",
      "metadata": {
        "id": "view-in-github",
        "colab_type": "text"
      },
      "source": [
        "<a href=\"https://colab.research.google.com/github/pruthvirajuurugonda/pruthvirajuurugonda/blob/main/Essentials_of_Statistics_II_Assignment.ipynb\" target=\"_parent\"><img src=\"https://colab.research.google.com/assets/colab-badge.svg\" alt=\"Open In Colab\"/></a>"
      ]
    },
    {
      "cell_type": "code",
      "source": [
        "#The Null Hepothesis: New product increases sales by atleast 10%\n",
        "#The Alternative Hepothesis: New product does not increase sales by at least 10%\n",
        "#Method 1: Since the sample size is huge we can use z test\n",
        "#Z = (8-10)/2 = -1\n",
        "#p_value = 0.1578\n",
        "#since p_value > 0.05 we fail to reject the null Hepothesis. Yes the new product does increase sales by atleast 10%\n",
        "\n",
        "#Method 2: Using the T test\n",
        "#T = (10-8)/2/sqrt(1000) = 31.6\n",
        "#DF = 1000-1 = 999\n",
        "#p_value is less than 0.00001 \n",
        "#Since p_value is so small we reject the null Hepothesis. The new product does not increase sales by 10%\n",
        "\n",
        "#We can see completely different results. I lean towards using the t test and accepting that p~=0\n",
        "\n",
        "#Program for Method 1 using z test\n",
        "import numpy as np\n",
        "from scipy.stats import norm, ttest_1samp\n",
        "\n",
        "mean = 10\n",
        "std_dev = 2\n",
        "sample_size = 1000\n",
        "\n",
        "samples = np.random.normal(mean, std_dev, sample_size)\n",
        "\n",
        "Way1 = np.sum(samples <= 8) / sample_size\n",
        "Way2 = norm.cdf(8, mean, std_dev)\n",
        "print(\"Using normal distribution to calculate probability\")\n",
        "print(\"Probability by counting 1000 samples:\", Way1)\n",
        "print(\"Probability by using cdf on a normal distribution:\", Way2)\n",
        "print(\"\\n\")\n",
        "\n",
        "#Program for Method 2 using t test\n",
        "samples = np.random.normal(8, 2, 1000)\n",
        "t_stat, p_value = ttest_1samp(samples, 10)\n",
        "print(\"Using t test\")\n",
        "print(\"T-statistic value: \", t_stat)  \n",
        "print(\"P-Value using t statistic: \", p_value)\n"
      ],
      "metadata": {
        "colab": {
          "base_uri": "https://localhost:8080/"
        },
        "id": "WnlTNHWfXg3-",
        "outputId": "8c421339-f306-4c9b-9ec8-3c5fd550361d"
      },
      "execution_count": null,
      "outputs": [
        {
          "output_type": "stream",
          "name": "stdout",
          "text": [
            "Using normal distribution to calculate probability\n",
            "Probability by counting 1000 samples: 0.16\n",
            "Probability by using cdf on a normal distribution: 0.15865525393145707\n",
            "\n",
            "\n",
            "Using t test\n",
            "T-statistic value:  -32.81244582382943\n",
            "P-Value using t statistic:  8.090452240269463e-161\n"
          ]
        }
      ]
    },
    {
      "cell_type": "markdown",
      "source": [
        "###**2. AB Testing:**\n",
        "A company is testing two different advertising strategies to see which results in more\n",
        "clicks on their website. They randomly assign 5000 visitors to strategy A and 5000\n",
        "visitors to strategy B. The results show that 200 visitors from strategy A clicked on the\n",
        "website while 250 visitors from strategy B clicked on the website. Test the hypothesis\n",
        "that the proportion of clicks is higher in strategy B than in strategy A using a\n",
        "significance level of 0.01."
      ],
      "metadata": {
        "id": "vwI21pwplxY4"
      }
    },
    {
      "cell_type": "markdown",
      "source": [
        "###**1. Hypothesis Testing:**\n",
        "\n",
        "A company claims that their new product will increase sales by at least 10%. To test\n",
        "this claim, a sample of 1000 customers is selected and their purchasing behavior is\n",
        "observed before and after the product launch. The average increase in sales is found to\n",
        "be 8% with a standard deviation of 2%. Test the company's claim using a significance\n",
        "level of 0.05."
      ],
      "metadata": {
        "id": "ND6hEmbHXT9_"
      }
    },
    {
      "cell_type": "code",
      "source": [
        "#Method 1: Calculating manually\n",
        "#source: https://stattrek.com/hypothesis-test/difference-in-proportions\n",
        "\n",
        "#Step 1:\n",
        "#The Null Hepothesis: Propotion of clicks is not higher in strategy B\n",
        "#The Alternative Hepothesis: Propotion of clicks is higher in strategy B than in strategy A\n",
        "\n",
        "#Step 2:\n",
        "# P_A = 200/5000 = 0.04,  p_B = 250/5000 = 0.05\n",
        "\n",
        "#Step 3: \n",
        "# p_pool = (p_A * n1 + P+B * n2) / (n1 + n2) = (0.04 * 5000 + 0.05 * 5000) / 10000 = 0.045\n",
        "\n",
        "#Step 4: \n",
        "# Standard Error = sqrt[(p_pool * (1-p_pool)) / (1/n1 + 1/n2)] = sqrt[(0.045 * 0.955) / 0.0004] = 0.004146\n",
        "\n",
        "#Step 5:\n",
        "# z = (p_B - p_A) / SE = 0.01 / 0.004136 = 2.41\n",
        "\n",
        "#Step 6: \n",
        "# Using the z table 1-p(2.41)=0.008 < alpha(0.01) therefore we reject the null hypothesis\n",
        "# Using Strategy B does indeed result in higher clicks\n",
        "\n",
        "#Method 2: Programaticaly:\n",
        "import numpy as np\n",
        "from statsmodels.stats.proportion import proportions_ztest\n",
        "\n",
        "# Number of successes (clicks) for strategy A and strategy B\n",
        "count = np.array([200, 250])\n",
        "\n",
        "# Number of observations (visitors) for strategy A and strategy B\n",
        "nobs = np.array([5000, 5000])\n",
        "\n",
        "# Perform a one-tailed two-proportion z-test\n",
        "z_stat, p_value_left_tail = proportions_ztest(count, nobs, alternative='larger')\n",
        "\n",
        "# Calculate the p-value for the right tail\n",
        "p_value_right_tail = 1 - p_value_left_tail\n",
        "\n",
        "# Print the results\n",
        "print(f\"Z-statistic: {z_stat:.2f}\")\n",
        "print(f\"P-value: {p_value_right_tail:.3f}\")\n",
        "\n",
        "# Compare the p-value with the significance level\n",
        "alpha = 0.01\n",
        "if p_value_right_tail < alpha:\n",
        "    print(\"Reject the null hypothesis: The proportion of clicks is higher in strategy B than in strategy A.\")\n",
        "else:\n",
        "    print(\"Fail to reject the null hypothesis: We do not have enough evidence to conclude that the proportion of clicks is higher in strategy B than in strategy A.\")\n"
      ],
      "metadata": {
        "id": "jwcEcjf_mEdp",
        "colab": {
          "base_uri": "https://localhost:8080/"
        },
        "outputId": "fa58ff6e-e1ea-40b1-fc09-8ba9f87fc473"
      },
      "execution_count": null,
      "outputs": [
        {
          "output_type": "stream",
          "name": "stdout",
          "text": [
            "Z-statistic: -2.41\n",
            "P-value: 0.008\n",
            "Reject the null hypothesis: The proportion of clicks is higher in strategy B than in strategy A.\n"
          ]
        }
      ]
    },
    {
      "cell_type": "markdown",
      "source": [
        "###**3. Anomaly Detection [Optional]:**\n",
        "A credit card company wants to detect fraudulent transactions. They have a dataset of\n",
        "transactions and want to identify any transactions that are unusual or different from\n",
        "the normal pattern of transactions. Use the isolation forest algorithm to detect\n",
        "anomalies in the dataset.\n",
        "The output of the code will be a classification report and a list of boolean values\n",
        "indicating which transactions are anomalous. The classification report will show the\n",
        "accuracy, precision, recall, and F1 score of the model. The list of boolean values will\n",
        "indicate which transactions were classified as anomalous by the model."
      ],
      "metadata": {
        "id": "Kz4L2bcPTyEG"
      }
    },
    {
      "cell_type": "code",
      "source": [
        "#Note: The file is manually uploaded in my environment\n",
        "import numpy as np\n",
        "import pandas as pd\n",
        "import matplotlib.pyplot as plt\n",
        "%matplotlib inline\n",
        "from sklearn.ensemble import IsolationForest\n",
        "\n",
        "\n",
        "#Since the file is too large with 280k+ rows I will only use first 1000\n",
        "df = pd.read_csv('creditcard.csv', nrows=1000)\n",
        "model = IsolationForest(n_estimators=10, contamination='auto')\n",
        "model.fit(df)\n",
        "y_pred = model.predict(df)\n",
        "\n",
        "print(f\"Number of anamoly rows out of 1000 is {np.sum(y_pred==-1)}\")\n",
        "print(f\"Percentage of Anamoly entries is {np.sum(y_pred==-1)/10}%\")\n"
      ],
      "metadata": {
        "id": "w1bVgA6sT-NR",
        "colab": {
          "base_uri": "https://localhost:8080/"
        },
        "outputId": "40405125-4074-45ae-9bb9-7b8781c7b38f"
      },
      "execution_count": null,
      "outputs": [
        {
          "output_type": "stream",
          "name": "stdout",
          "text": [
            "Number of anamoly rows out of 1000 is 73\n",
            "Percentage of Anamoly entries is 7.3%\n"
          ]
        }
      ]
    }
  ]
}